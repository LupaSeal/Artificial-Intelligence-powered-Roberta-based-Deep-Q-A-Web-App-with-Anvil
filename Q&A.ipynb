{
 "cells": [
  {
   "cell_type": "code",
   "execution_count": null,
   "id": "29373f3d",
   "metadata": {},
   "outputs": [],
   "source": [
    "#Pytorch install\n",
    "!pip install torch torchvision torchaudio --extra-index-url https://download.pytorch.org/whl/cu117     "
   ]
  },
  {
   "cell_type": "code",
   "execution_count": null,
   "id": "1a4c1a52",
   "metadata": {},
   "outputs": [],
   "source": [
    "#install transformers\n",
    "!pip install transformers"
   ]
  },
  {
   "cell_type": "code",
   "execution_count": null,
   "id": "3d9d9f17",
   "metadata": {},
   "outputs": [],
   "source": [
    "from transformers import AutoModelForQuestionAnswering, AutoTokenizer, pipeline\n",
    "\n",
    "model_name = \"deepset/roberta-base-squad2\"\n",
    "\n",
    "#Get predictions\n",
    "nlp = pipeline('question-answering', model='deepset/roberta-base-squad2', tokenizer='deepset/roberta-base-squad2')\n",
    "wikipedia_text = \"\"\"\n",
    "\n",
    "Spider-Man is a superhero appearing in American comic books published by Marvel Comics. Created by writer-editor Stan Lee and artist Steve Ditko, he first appeared in the anthology comic book Amazing Fantasy #15 (August 1962) in the Silver Age of Comic Books. He has since been featured in films, television shows, novels, video games, and plays. Spider-Man is the alias of Peter Parker, an orphan raised by his Aunt May and Uncle Ben in New York City after his parents Richard and Mary Parker died in a plane crash. Lee and Ditko had the character deal with the struggles of adolescence and financial issues and gave him many supporting characters, such as Flash Thompson, J. Jonah Jameson, and Harry Osborn; romantic interests Gwen Stacy, Mary Jane Watson, and the Black Cat; and foes such as Doctor Octopus, the Green Goblin, and Venom. In his origin story, Spider-Man gets superhuman spider-powers and abilities from a bite from a radioactive spider; these include clinging to surfaces and ceilings, superhuman strength, speed, and agility, and detecting danger with his precognition ability called \"spider-sense.\" He also builds wrist-mounted \"web-shooter\" devices that shoot artificial spider-webs of his own design that was meant to be used for shooting and trapping his enemies, and web-swinging across the city. After the personal tragedy of his late Uncle Ben, Peter began using his spider-powers to fight against crime as Spider-Man.\n",
    "\n",
    "When Spider-Man first appeared in the early 1960s, teenagers in superhero comic books were usually relegated to the role of sidekick to the protagonist. The Spider-Man series broke ground by featuring Peter Parker, a high school student from Queens, New York, as Spider-Man's secret identity, whose \"self-obsessions with rejection, inadequacy, and loneliness\" were issues to which young readers could relate.[8] While Spider-Man had all the makings of a sidekick, unlike previous teen heroes such as Bucky and Robin, Spider-Man had no superhero mentor like Captain America and Batman; he thus had to learn for himself that \"with great power comes great responsibility\" — a line included in a text box in the final panel of the first Spider-Man story but later retroactively attributed to his guardian, his late Uncle Ben Parker.\n",
    "\n",
    "Marvel has featured Spider-Man in several comic book series, the first and longest-lasting of which is The Amazing Spider-Man. Over the years, the Peter Parker character developed from a shy, nerdy New York City high school student to troubled but outgoing college student, to married high school teacher to, in the late 2000s, a single freelance photographer. In the 2000s, he joins the Avengers. Doctor Octopus also took on the identity for a story arc spanning 2012–2014, following a body swap plot in which Peter appears to die.[9] Marvel has also published books featuring alternate versions of Spider-Man, including Spider-Man 2099, which features the adventures of Miguel O'Hara, the Spider-Man of the future; Ultimate Spider-Man, which features the adventures of a teenaged Peter Parker in an alternate universe; and Ultimate Comics Spider-Man, which depicts the teenager Miles Morales, who takes up the mantle of Spider-Man after Ultimate Peter Parker's supposed death. Miles later became a popular superhero in his own right, and was brought into the mainstream continuity, where he sometimes works alongside Peter.\n",
    "\n",
    "Spider-Man is one of the most popular and commercially successful superheroes.[10] He has appeared in countless forms of media, including several animated TV series, a live action television series, syndicated newspaper comic strips, and in multiple series of films. The character was first portrayed in live action by Danny Seagren in Spidey Super Stories, a The Electric Company skit which ran from 1974 to 1977.[11] In films, Spider-Man has been portrayed by actors Tobey Maguire, Andrew Garfield,[12] and in the Marvel Cinematic Universe by Tom Holland. He was voiced by Chris Pine and Jake Johnson in the animated film Spider-Man: Into the Spider-Verse (2018), with Johnson reprising the role in its sequel Spider-Man: Across the Spider-Verse (2023). Reeve Carney starred originally as Spider-Man in the 2010 Broadway musical Spider-Man: Turn Off the Dark.[13] Spider-Man has been well received as a superhero and comic book character, and he is often ranked as one of the most popular and iconic comic book characters of all time and one of the most popular characters in all fiction.\n",
    "\"\"\"\n",
    "question_set = {\n",
    "    'question': '',\n",
    "    'context': wikipedia_text\n",
    "}\n",
    "results = nlp(question_set)"
   ]
  },
  {
   "cell_type": "code",
   "execution_count": null,
   "id": "4a7d4b42",
   "metadata": {},
   "outputs": [],
   "source": [
    "results['answer']"
   ]
  },
  {
   "cell_type": "code",
   "execution_count": null,
   "id": "80ae6aa2",
   "metadata": {},
   "outputs": [],
   "source": [
    "!pip install anvil-uplink"
   ]
  },
  {
   "cell_type": "code",
   "execution_count": null,
   "id": "846d25b0",
   "metadata": {},
   "outputs": [],
   "source": [
    "import anvil.server"
   ]
  },
  {
   "cell_type": "code",
   "execution_count": null,
   "id": "bf2aa6d9",
   "metadata": {},
   "outputs": [],
   "source": [
    "anvil.server.connect('N7JBMW6GUJBC2EEEDA2WBJUQ-72HFXWVMPHJHEI35')"
   ]
  },
  {
   "cell_type": "code",
   "execution_count": null,
   "id": "90587f35",
   "metadata": {},
   "outputs": [],
   "source": [
    "@anvil.server.callable\n",
    "def answer_questions(question_text, context_text):\n",
    "    question_set = {\n",
    "    'question': question_text,\n",
    "    'context': context_text\n",
    "}\n",
    "    results = nlp(question_set)\n",
    "    return results['answer']\n",
    "    "
   ]
  },
  {
   "cell_type": "raw",
   "id": "7a9c8e6e",
   "metadata": {},
   "source": []
  },
  {
   "cell_type": "code",
   "execution_count": null,
   "id": "754c0752",
   "metadata": {},
   "outputs": [],
   "source": [
    "anvil_result = answer_questions('who is spider-man?',wikipedia_text)"
   ]
  },
  {
   "cell_type": "code",
   "execution_count": null,
   "id": "2451e829",
   "metadata": {},
   "outputs": [],
   "source": [
    "anvil_result"
   ]
  }
 ],
 "metadata": {
  "kernelspec": {
   "display_name": "Python 3 (ipykernel)",
   "language": "python",
   "name": "python3"
  },
  "language_info": {
   "codemirror_mode": {
    "name": "ipython",
    "version": 3
   },
   "file_extension": ".py",
   "mimetype": "text/x-python",
   "name": "python",
   "nbconvert_exporter": "python",
   "pygments_lexer": "ipython3",
   "version": "3.9.12"
  }
 },
 "nbformat": 4,
 "nbformat_minor": 5
}
